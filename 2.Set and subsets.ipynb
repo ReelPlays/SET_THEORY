{
 "cells": [
  {
   "cell_type": "code",
   "execution_count": 1,
   "id": "5de402e3-4a9e-4702-8d47-c93e036e41fd",
   "metadata": {},
   "outputs": [
    {
     "name": "stdout",
     "output_type": "stream",
     "text": [
      "Note: you may need to restart the kernel to use updated packages.\n"
     ]
    },
    {
     "name": "stderr",
     "output_type": "stream",
     "text": [
      "ERROR: Could not find a version that satisfies the requirement amsmath (from versions: none)\n",
      "ERROR: No matching distribution found for amsmath\n"
     ]
    }
   ],
   "source": []
  },
  {
   "cell_type": "markdown",
   "id": "97e55892-4c59-41a9-a075-ba106917cf61",
   "metadata": {},
   "source": [
    "\r\n",
    "\n",
    "\n",
    "Certainly! Here are the solutions to the provided problems using LaTeX commands:\r\n",
    "\r\n",
    "**Problem 1:**\r\n",
    "Is \\(A \\subset B\\)? Show a proof.\r\n",
    "\r\n",
    "Given sets:\r\n",
    "\\[A = \\{2, 3, 4, 5\\}\\]\r\n",
    "\\[B = \\{x \\in \\mathbb{N} \\,|\\, x \\text{ is even}\\}\\]\r\n",
    "\r\n",
    "To prove whether \\(A\\) is a subset of \\(B\\), we need to check if every element in \\(A\\) is also in \\(B\\).\r\n",
    "\r\n",
    "Proof:\r\n",
    "- Element 2 is in \\(A\\) and also in \\(B\\) since 2 is an even number.\r\n",
    "- Element 3 is in \\(A\\) but not in \\(B\\) since 3 is an odd number.\r\n",
    "- Element 4 is in \\(A\\) and also in \\(B\\) since 4 is an even number.\r\n",
    "- Element 5 is in \\(A\\) but not in \\(B\\) since 5 is an odd number.\r\n",
    "\r\n",
    "Since not every element in \\(A\\) is in \\(B\\), we can conclude that \\(A\\) is not a subset of \\(B\\).\r\n",
    "\r\n",
    "Mathematically:\r\n",
    "\\[A \\not\\subset B\\]\r\n",
    "\r\n",
    "**Problem 2:**\r\n",
    "Find a set \\(X\\) that satisfies the following conditions:\r\n",
    "\r\n",
    "1. \\(X\\) and \\(B\\) are disjoint.\r\n",
    "2. \\(X \\subseteq D\\) but \\(X \\nsubseteq B\\).\r\n",
    "3. \\(X \\subseteq A\\) but \\(X \\not\\subset C\\).\r\n",
    "\r\n",
    "Given sets:\r\n",
    "\\(\\textbf{A} = \\{x \\mid x \\in \\mathbb{Z}, 0 \\leq x \\leq 9\\}\\),\r\n",
    "\\(\\textbf{B} = \\{2, 4, 6, 8\\}\\),\r\n",
    "\\(\\textbf{C} = \\{1, 3, 5, 7, 9\\}\\),\r\n",
    "\\(\\textbf{D} = \\{3, 4, 5\\}\\)\r\n",
    "\r\n",
    "One possible set \\(X\\) that satisfies these conditions is:\r\n",
    "\\[X = \\{0\\}\\]\r\n",
    "\r\n",
    "To check if \\(X\\) satisfies the conditions:\r\n",
    "1. \\(X \\cap B = \\{0\\} \\cap \\{2, 4, 6, 8\\} = \\emptyset\\), which means \\(X\\) and \\(B\\) are disjoint.\r\n",
    "2. \\(X \\subseteq D\\) because \\(X = \\{0\\}\\) and \\(D = \\{3, 4, 5\\}\\).\r\n",
    "3. \\(X \\subseteq A\\) because \\(X = \\{0\\}\\) and \\(A = \\{0, 1, 2, 3, 4, 5, 6, 7, 8, 9\\}\\).\r\n",
    "4. \\(X\\) is not a subset of \\(C\\) because \\(X = \\{0\\}\\) and \\(C = \\{1, 3, 5, 7, 9\\}\\).\r\n",
    "\r\n",
    "So, the set \\(X = \\{0\\}\\) satisfies all the given conditions.fies all the given conditions.fies all the given conditions."
   ]
  },
  {
   "cell_type": "code",
   "execution_count": null,
   "id": "39bd10be-97ce-41d5-a148-15f34a56bb4d",
   "metadata": {},
   "outputs": [],
   "source": []
  }
 ],
 "metadata": {
  "kernelspec": {
   "display_name": "Python 3 (ipykernel)",
   "language": "python",
   "name": "python3"
  },
  "language_info": {
   "codemirror_mode": {
    "name": "ipython",
    "version": 3
   },
   "file_extension": ".py",
   "mimetype": "text/x-python",
   "name": "python",
   "nbconvert_exporter": "python",
   "pygments_lexer": "ipython3",
   "version": "3.11.5"
  }
 },
 "nbformat": 4,
 "nbformat_minor": 5
}
