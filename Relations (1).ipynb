{
 "cells": [
  {
   "cell_type": "markdown",
   "metadata": {},
   "source": [
    "# <font color=blue>Relations</font>\n",
    "## Keith Mark P. Saldana - Group 8 - <font color=#0093AF>BSIT-1</font>"
   ]
  },
  {
   "cell_type": "markdown",
   "metadata": {},
   "source": [
    " ## <font color=green>ASSIGNMENT</font>\n",
    "\n",
    "- ### Create a python function that will determine if a set is transitive or not."
   ]
  },
  {
   "cell_type": "markdown",
   "metadata": {},
   "source": [
    "\r\n",
    "**Relation R1:**\r\n",
    "\\[\r\n",
    "R1 = \\{\r\n",
    "    \\{1, 1\\}, \\{1, 2\\}, \\{2, 3\\}, \\{1, 3\\}, \\{4, 4\\}\r\n",
    "\\}\r\n",
    "\\]\r\n",
    "\r\n",
    "**Relation R2:**\r\n",
    "\\[\r\n",
    "R2 = \\{\r\n",
    "    \\{1, 1\\}, \\{1, 2\\}, \\{2, 1\\}, \\{2, 2\\}, \\{3, 3\\}, \\{4, 4\\}\r\n",
    "\\}\r\n",
    "\\]\r\n",
    "\r\n",
    "**Relation R3:**\r\n",
    "\\[\r\n",
    "R3 = \\{\r\n",
    "    \\{1, 3\\}, \\{2, 1\\}\r\n",
    "\\}\r\n",
    "\\]\r\n",
    "\r\n",
    "**Relation R4:**\r\n",
    "\\[\r\n",
    "R4 = A \\times A\r\n",
    " between the different relations."
   ]
  },
  {
   "cell_type": "code",
   "execution_count": 5,
   "metadata": {},
   "outputs": [
    {
     "name": "stdout",
     "output_type": "stream",
     "text": [
      "{(4, 4), (2, 3), (1, 2), (1, 1), (1, 3)}\n",
      "  transitive:  True\n",
      "{(4, 4), (1, 2), (3, 3), (2, 1), (2, 2), (1, 1)}\n",
      "  transitive:  True\n",
      "{(1, 3), (2, 1)}\n",
      "  transitive:  False\n",
      "{(4, 4), (2, 4), (1, 2), (2, 1), (3, 4), (4, 1), (3, 1), (4, 3), (1, 1), (1, 4), (4, 2), (2, 3), (3, 3), (2, 2), (3, 2), (1, 3)}\n",
      "  transitive:  True\n"
     ]
    }
   ],
   "source": [
    "def transitive(Relation):\n",
    "    for a, b in Relation:\n",
    "        for c, d in Relation:\n",
    "            if b == c:\n",
    "                if (a,d) not in Relation:\n",
    "                    return False    \n",
    "    return True\n",
    "\n",
    "A ={1, 2, 3, 4}\n",
    "R1 = {(1, 1), (1, 2), (2, 3), (1, 3), (4, 4)}\n",
    "R2 = {(1, 1), (1, 2), (2, 1),(2,2),(3,3),(4,4)}\n",
    "R3 = {(1,3),(2,1)}\n",
    "R4 = {(a,b) for a in A for b in A}\n",
    "for R in [R1, R2, R3, R4]:\n",
    "    print(R)\n",
    "    print(\"  transitive: \", transitive(R))"
   ]
  },
  {
   "cell_type": "markdown",
   "metadata": {},
   "source": [
    "## Defining Symmetry Function"
   ]
  },
  {
   "cell_type": "code",
   "execution_count": 209,
   "metadata": {},
   "outputs": [],
   "source": [
    "def symmetric(R):\n",
    "    for (a, b) in R:\n",
    "        if (b, a) not in R:\n",
    "            return False\n",
    "    return True"
   ]
  },
  {
   "cell_type": "markdown",
   "metadata": {},
   "source": [
    "## Defining Reflexivity Function"
   ]
  },
  {
   "cell_type": "code",
   "execution_count": 210,
   "metadata": {},
   "outputs": [],
   "source": [
    "def reflexive(R, A):\n",
    "    for a in A:\n",
    "        if (a, a) not in R:\n",
    "            return False\n",
    "    return True"
   ]
  },
  {
   "cell_type": "markdown",
   "metadata": {},
   "source": [
    "# Assignments\n",
    "---\n",
    "### Instructions:\n",
    "#### 1. Use Latex programming to show your solution.\n",
    "#### 2. For problems requiring the identification of reflexive, symmetric, and transitive properties of relation, show both manual solution via latex, and the solution using your python function.\n",
    "---\n",
    "* Given $A = \\{1,2,3,4\\}$ and $B=\\{x,y,z\\}$. Let $R$ be a relation from $A \\to B$:\n",
    "\\begin{equation}\n",
    "\\textbf{R} = \\{\n",
    "\\{1,y\\},\\{1,z\\},\\{3,y\\},\\{4,x\\},\\{4,z\\}\n",
    "\\}\n",
    "\\end{equation}\n",
    "1. ##### Find all $aRb$.\n",
    "2. ##### Find $R^{-1}$.\n",
    "3. ##### Determine the domain and range of $R$.\n",
    "4. ##### Check if $R$ is a reflexive relation.\n",
    "5. ##### Check if $R$ is a symmetric relation."
   ]
  },
  {
   "cell_type": "markdown",
   "metadata": {},
   "source": [
    "### Answer "
   ]
  },
  {
   "cell_type": "markdown",
   "metadata": {},
   "source": [
    "#### 1. Find all $aRb$."
   ]
  },
  {
   "cell_type": "code",
   "execution_count": 211,
   "metadata": {},
   "outputs": [
    {
     "name": "stdout",
     "output_type": "stream",
     "text": [
      "[(1, 'z'), (1, 'x'), (1, 'y'), (2, 'z'), (2, 'x'), (2, 'y'), (3, 'z'), (3, 'x'), (3, 'y'), (4, 'z'), (4, 'x'), (4, 'y')]\n"
     ]
    }
   ],
   "source": [
    "A = set([1, 2, 3, 4])\n",
    "B = set(['x','y','z'])\n",
    "Cartesian = [(a,b) for a in A for b in B]\n",
    "print(Cartesian)"
   ]
  },
  {
   "cell_type": "markdown",
   "metadata": {},
   "source": [
    "- #### Checking from the results, $R$ = {{1,y}$\\checkmark$\n",
    "1. {1,z} \\:  $\\checkmark$\n",
    "2. {3,y} \\:  $\\checkmark$\n",
    "3. {4,x} \\:  $\\checkmark$\n",
    "4. {4,z} \\: $\\checkmark$\n",
    "- #### With respect to the relation, $R: 1\\;R\\;y, 1\\;R\\;z, 3\\;R\\;y, 4\\;R\\;x, 4\\;Rz\\;$"
   ]
  },
  {
   "cell_type": "markdown",
   "metadata": {},
   "source": [
    "#### 2. Find $R^{-1}$.\n",
    "- ##### $R$ = {{1,y} , {1,z} , {3,y} , {4,x} , {4,z}}\n",
    "- ##### $R^{-1}$ = {{y,1} , {z,1} , {y,3} , {x,4} , {z,4}}"
   ]
  },
  {
   "cell_type": "markdown",
   "metadata": {},
   "source": [
    "#### 3. Determine the domain and range of $R$.\n",
    "- {1,y}: domain $a$ = 1 : range $b$ = y.\n",
    "- {1,z}: domain $a$ = 1 : range $b$ = z.\n",
    "- {3,y}: domain $a$ = 3 : range $b$ = y.\n",
    "- {4,x}: domain $a$ = 4 : range $b$ = x.\n",
    "- {4,z}: domain $a$ = 4 : range $b$ = z.\n",
    "- The domain of $R$ is {1,3,4} and the range is {x,y,z}"
   ]
  },
  {
   "cell_type": "markdown",
   "metadata": {},
   "source": [
    "#### 4. Check if $R$ is a reflexive relation.\n",
    "A relation $\\textbf{R}$ on a set A is reflexive $\\iff a\\textbf{R}a  \\ \\forall \\ a \\in A$.\n",
    "- For element 1, does $a\\textbf{R}a$ = {1,1} exist? No.\n",
    "- {1,1} does not exist.\n",
    "- $R$ is not reflexive."
   ]
  },
  {
   "cell_type": "markdown",
   "metadata": {},
   "source": [
    "#### $Python$ Solution:"
   ]
  },
  {
   "cell_type": "code",
   "execution_count": 212,
   "metadata": {},
   "outputs": [
    {
     "name": "stdout",
     "output_type": "stream",
     "text": [
      "A =  {1, 2, 3, 4}\n",
      "B =  {'z', 'x', 'y'}\n",
      "R =  {(4, 'z'), (3, 'y'), (1, 'z'), (4, 'x'), (1, 'y')}\n",
      "Is R reflexive in A?: False\n",
      "Is R reflexive in B?: False\n"
     ]
    }
   ],
   "source": [
    "A = {1,2,3,4}\n",
    "B = {'x','y','z'}\n",
    "R = {(1,'y'),(1,'z'),(3,'y'),(4,'x'),(4,'z')}\n",
    "print(\"A = \", A)\n",
    "print(\"B = \", B)\n",
    "print(\"R = \", R)\n",
    "print (\"Is R reflexive in A?:\", reflexive(R,A))\n",
    "print (\"Is R reflexive in B?:\", reflexive(R,B))"
   ]
  },
  {
   "cell_type": "code",
   "execution_count": null,
   "metadata": {},
   "outputs": [],
   "source": []
  },
  {
   "cell_type": "markdown",
   "metadata": {},
   "source": [
    "#### 5. Check if $R$ is a symmetric relation.\n",
    "- For symmetry, for every $a\\;\\textbf{$R$}\\;b$ then $b\\;\\textbf{$R$}\\;a$ must exist.\n",
    "- For ordered pair {1,y}, does $b\\;\\textbf{$R$}\\;a$ = {y,1} exist? No.\n",
    "- {y,1} does not exist. Therefore, checking symmetry is not necessary\n",
    "- $R$ is not symmetric."
   ]
  },
  {
   "cell_type": "markdown",
   "metadata": {},
   "source": [
    "#### Python Solution:"
   ]
  },
  {
   "cell_type": "code",
   "execution_count": 6,
   "metadata": {},
   "outputs": [
    {
     "name": "stdout",
     "output_type": "stream",
     "text": [
      "R =  {(4, 4), (2, 4), (1, 2), (2, 1), (3, 4), (4, 1), (3, 1), (4, 3), (1, 1), (1, 4), (4, 2), (2, 3), (3, 3), (2, 2), (3, 2), (1, 3)}\n"
     ]
    },
    {
     "ename": "NameError",
     "evalue": "name 'symmetric' is not defined",
     "output_type": "error",
     "traceback": [
      "\u001b[1;31m---------------------------------------------------------------------------\u001b[0m",
      "\u001b[1;31mNameError\u001b[0m                                 Traceback (most recent call last)",
      "Cell \u001b[1;32mIn[6], line 2\u001b[0m\n\u001b[0;32m      1\u001b[0m \u001b[38;5;28mprint\u001b[39m (\u001b[38;5;124m\"\u001b[39m\u001b[38;5;124mR = \u001b[39m\u001b[38;5;124m\"\u001b[39m,R)\n\u001b[1;32m----> 2\u001b[0m \u001b[38;5;28mprint\u001b[39m(\u001b[38;5;124m\"\u001b[39m\u001b[38;5;124mIs the relation symmetric? :\u001b[39m\u001b[38;5;124m\"\u001b[39m, \u001b[43msymmetric\u001b[49m(R))\n",
      "\u001b[1;31mNameError\u001b[0m: name 'symmetric' is not defined"
     ]
    }
   ],
   "source": [
    "print (\"R = \",R)\n",
    "print(\"Is the relation symmetric? :\", symmetric(R))"
   ]
  },
  {
   "cell_type": "markdown",
   "metadata": {},
   "source": [
    "* Given $A = \\{1,2,3,4\\}$,$B=\\{a,b,c\\}$, and $C=\\{x,y,z\\}$ . Let $R$ be a relation from $A \\to B$:\n",
    "\\begin{equation}\n",
    "\\textbf{R} = \\{\n",
    "\\{1,b\\},\\{2,a\\},\\{2,c\\}\n",
    "\\}\n",
    "\\end{equation}\n",
    "<br>\n",
    "\n",
    "Also Let $S$ be a relation from $B \\to C$:\n",
    "\\begin{equation}\n",
    "\\textbf{S} = \\{\n",
    "\\{a,y\\},\\{b,x\\},\\{c,y\\},,\\{c,z\\}\n",
    "\\}\n",
    "\\end{equation}\n",
    "1. Find the composition relation $\\textbf{R}\\circ\\textbf{S}$.\n",
    "2. Find $R^{-1}$.\n",
    "3. Find $S^{-1}$.\n",
    "4. Determine the domain and range of $R$.\n",
    "5. Check if $R$ is a reflexive relation.\n",
    "6. Check if $R$ is a symmetric relation.\n",
    "7. Determine the domain and range of $S$.\n",
    "8. Check if $S$ is a reflexive relation.\n",
    "9. Check if $S$ is a symmetric relation."
   ]
  },
  {
   "cell_type": "markdown",
   "metadata": {},
   "source": [
    "### Answer"
   ]
  },
  {
   "cell_type": "markdown",
   "metadata": {},
   "source": [
    "#### 1. Find the composition relation $\\textbf{R}\\circ\\textbf{S}$.\n",
    "-  {1,b} $\\in$ R = aRb, {b,x} $\\in$ S = bRc. $\\quad \\therefore$ R $\\circ$ S, aRc = {1,x}\n",
    "-  {2,a} $\\in$ R = aRb, {a,y} $\\in$ S = bRc. $\\quad \\therefore$ R $\\circ$ S, aRc = {2,y}\n",
    "-  {2,c} $\\in$ R = aRb, {c,y}, {c,z} $\\in$ S = bRc. $\\quad \\therefore$ R $\\circ$ S, aRc = {2,y}, {2,z}\n",
    "-  $R$  $\\circ$ $S$ = {{1,x}, {2,y}, {2,z}}\n",
    "\n",
    "#### 2. Find $R^{-1}$.\n",
    "- #### R = {{1,b}, {2,a}, {2,c}}\n",
    "- #### R $^{-1}$ = {{b,1}, {a,2}, {c,2}}\n",
    "\n",
    "#### 3. Find $S^{-1}$.\n",
    "- #### S = {{a,y}, {b,x}, {c,y}, {c,z}} \n",
    "- #### S $^{-1}$ = {{y,a}, {x,b}, {y,c}, {z,c}}\n",
    "\n",
    "#### 4. Determine the domain and range of $R$.\n",
    "  -  {1,b}: domain $a$ = 1 : range $b$ = b.\n",
    "  -  {2,a}: domain $a$ = 2 : range $b$ = a.\n",
    "  -  {2,c}: domain $a$ = 2 : range $b$ = c.\n",
    "- ##### Domain : {1, 2}\n",
    "- ##### Range : {a, b, c}\n"
   ]
  },
  {
   "cell_type": "markdown",
   "metadata": {},
   "source": [
    "5. Check if $R$ is a reflexive relation.\n",
    "A relation $\\textbf{R}$ is reflexive $\\iff a\\;\\textbf{R}\\;a  \\ \\forall \\ a \\in A$.\n",
    "- ##### For element 1, does $a\\;\\textbf{R}\\;a$ = {1,1} exist? No.\n",
    "- ##### $R$ is not reflexive."
   ]
  },
  {
   "cell_type": "markdown",
   "metadata": {},
   "source": [
    "5. #### $Python$ Solution:"
   ]
  },
  {
   "cell_type": "code",
   "execution_count": 3,
   "metadata": {},
   "outputs": [
    {
     "name": "stdout",
     "output_type": "stream",
     "text": [
      "A =  {1, 2, 3, 4}\n",
      "B =  {'a', 'c', 'b'}\n",
      "C =  {'x', 'y'}\n",
      "R =  {(1, 'b'), (2, 'c'), (2, 'a')}\n"
     ]
    },
    {
     "ename": "NameError",
     "evalue": "name 'reflexive' is not defined",
     "output_type": "error",
     "traceback": [
      "\u001b[1;31m---------------------------------------------------------------------------\u001b[0m",
      "\u001b[1;31mNameError\u001b[0m                                 Traceback (most recent call last)",
      "Cell \u001b[1;32mIn[3], line 10\u001b[0m\n\u001b[0;32m      8\u001b[0m \u001b[38;5;28mprint\u001b[39m(\u001b[38;5;124m\"\u001b[39m\u001b[38;5;124mC = \u001b[39m\u001b[38;5;124m\"\u001b[39m,C)\n\u001b[0;32m      9\u001b[0m \u001b[38;5;28mprint\u001b[39m(\u001b[38;5;124m\"\u001b[39m\u001b[38;5;124mR = \u001b[39m\u001b[38;5;124m\"\u001b[39m,R)\n\u001b[1;32m---> 10\u001b[0m \u001b[38;5;28mprint\u001b[39m(\u001b[38;5;124m\"\u001b[39m\u001b[38;5;124mIs the relation reflexive in A?: \u001b[39m\u001b[38;5;124m\"\u001b[39m, \u001b[43mreflexive\u001b[49m(R,A))\n\u001b[0;32m     11\u001b[0m \u001b[38;5;28mprint\u001b[39m(\u001b[38;5;124m\"\u001b[39m\u001b[38;5;124mIs the relation reflexive in B?: \u001b[39m\u001b[38;5;124m\"\u001b[39m, reflexive(R,B))\n\u001b[0;32m     12\u001b[0m \u001b[38;5;28mprint\u001b[39m(\u001b[38;5;124m\"\u001b[39m\u001b[38;5;124mIs the relation reflexive in C?: \u001b[39m\u001b[38;5;124m\"\u001b[39m, reflexive(R,C))\n",
      "\u001b[1;31mNameError\u001b[0m: name 'reflexive' is not defined"
     ]
    }
   ],
   "source": [
    "A = {1,2,3,4}\n",
    "B = {'a','b','c'}\n",
    "C = {'x','y','x'}\n",
    "R = {(1,'b'),(2,'a'),(2,'c')}\n",
    "S = {('a','y'),('b','x'),('c','y'),('c','z')}\n",
    "print(\"A = \",A)\n",
    "print(\"B = \",B)\n",
    "print(\"C = \",C)\n",
    "print(\"R = \",R)\n",
    "print(\"Is the relation reflexive in A?: \", reflexive(R,A))\n",
    "print(\"Is the relation reflexive in B?: \", reflexive(R,B))\n",
    "print(\"Is the relation reflexive in C?: \", reflexive(R,C))"
   ]
  },
  {
   "cell_type": "markdown",
   "metadata": {},
   "source": [
    "#### 6. Check if $R$ is a symmetric relation.\n",
    "- For symmetry, for every $a\\textbf{R}b$ then $b\\textbf{R}a$ must exist.\n",
    "- For ordered pair {1,b},$b\\textbf{R}a$ = {b,1} does not exist\n",
    "- $R$ not symmetric."
   ]
  },
  {
   "cell_type": "markdown",
   "metadata": {},
   "source": [
    "6. $Python$ Solution:"
   ]
  },
  {
   "cell_type": "code",
   "execution_count": 215,
   "metadata": {},
   "outputs": [
    {
     "name": "stdout",
     "output_type": "stream",
     "text": [
      "R =  {(2, 'a'), (1, 'b'), (2, 'c')}\n",
      "Is the relation R symmetric?: False\n"
     ]
    }
   ],
   "source": [
    "print(\"R = \",R)\n",
    "print(\"Is the relation R symmetric?:\", symmetric(R))"
   ]
  },
  {
   "cell_type": "markdown",
   "metadata": {},
   "source": [
    "#### 7. Determine the domain and range of $S$.\n",
    "  - {a,y}: domain $a$ = a : range $b$ is y.\n",
    "  - {b,x}: domain $a$ = b : range $b$ is x.\n",
    "  - {c,y}: domain $a$ = c : range $b$ is y.\n",
    "  - {c,z}: domain $a$ = c : range $b$ is z.\n",
    "- ##### Domain = {a, b, c}\n",
    "- ##### Range = {x, y, z}"
   ]
  },
  {
   "cell_type": "markdown",
   "metadata": {},
   "source": [
    "#### 8. Check if $S$ is a reflexive relation.\n",
    "- In element a, $a\\;\\textbf{S}\\;a$ = {a,a} **does not** exist.\n",
    "- Therefore, $S$ is not reflexive.\n",
    "\n"
   ]
  },
  {
   "cell_type": "markdown",
   "metadata": {},
   "source": [
    "#### Solution:"
   ]
  },
  {
   "cell_type": "code",
   "execution_count": 216,
   "metadata": {},
   "outputs": [
    {
     "name": "stdout",
     "output_type": "stream",
     "text": [
      "A =  {1, 2, 3, 4}\n",
      "B =  {'c', 'b', 'a'}\n",
      "C =  {'x', 'y'}\n",
      "S =  {('c', 'z'), ('b', 'x'), ('a', 'y'), ('c', 'y')}\n",
      "Is the relation S reflexive in A?:  False\n",
      "Is the relation S reflexive in B?:  False\n",
      "Is the relation S reflexive in C?:  False\n"
     ]
    }
   ],
   "source": [
    "print(\"A = \",A)\n",
    "print(\"B = \",B)\n",
    "print(\"C = \",C)\n",
    "print(\"S = \",S)\n",
    "print(\"Is the relation S reflexive in A?: \",reflexive(R,A))\n",
    "print(\"Is the relation S reflexive in B?: \",reflexive(R,B))\n",
    "print(\"Is the relation S reflexive in C?: \",reflexive(R,C))"
   ]
  },
  {
   "cell_type": "markdown",
   "metadata": {},
   "source": [
    "####  9. Check if $S$ is a symmetric relation.\n",
    "- For ordered pair {a,y}, does $b\\;\\textbf{S}\\;a$ = {y,a} exist? No.\n",
    "- Therefore, $S$ is not considered symmetric."
   ]
  },
  {
   "cell_type": "markdown",
   "metadata": {},
   "source": [
    "#### Solution:"
   ]
  },
  {
   "cell_type": "code",
   "execution_count": 6,
   "metadata": {},
   "outputs": [
    {
     "ename": "NameError",
     "evalue": "name 'S' is not defined",
     "output_type": "error",
     "traceback": [
      "\u001b[1;31m---------------------------------------------------------------------------\u001b[0m",
      "\u001b[1;31mNameError\u001b[0m                                 Traceback (most recent call last)",
      "Cell \u001b[1;32mIn[6], line 1\u001b[0m\n\u001b[1;32m----> 1\u001b[0m \u001b[38;5;28mprint\u001b[39m(\u001b[38;5;124m\"\u001b[39m\u001b[38;5;124mS = S\u001b[39m\u001b[38;5;124m\"\u001b[39m,\u001b[43mS\u001b[49m)\n\u001b[0;32m      2\u001b[0m \u001b[38;5;28mprint\u001b[39m(\u001b[38;5;124m\"\u001b[39m\u001b[38;5;124mIs it symmetric?: \u001b[39m\u001b[38;5;124m\"\u001b[39m,symmetric(S))\n",
      "\u001b[1;31mNameError\u001b[0m: name 'S' is not defined"
     ]
    }
   ],
   "source": [
    "print(\"S = S\",S)\n",
    "print(\"Is it symmetric?: \",symmetric(S))"
   ]
  },
  {
   "cell_type": "markdown",
   "metadata": {},
   "source": [
    "---"
   ]
  },
  {
   "cell_type": "markdown",
   "metadata": {},
   "source": [
    "# Given $\\rightarrow$"
   ]
  },
  {
   "cell_type": "markdown",
   "metadata": {},
   "source": [
    "* Given $A = \\{1,2,3,4\\}$. Let $R$ be a relation from $A \\to B$:\n",
    "\\begin{equation}\n",
    "\\textbf{R} = \\{\n",
    "\\{1,1\\},\\{2,2\\},\\{2,3\\},\\{3,2\\},\\{4,2\\},\\{4,4\\}\n",
    "\\}\n",
    "\\end{equation}\n",
    "<br>\n",
    "\n",
    "1. Find the composition relation $\\textbf{R}\\circ\\textbf{R}$.<br>\n",
    "2. Draw the directed graph of $R^{-1}$.\n",
    "3. Draw the directed graph of $R$."
   ]
  },
  {
   "cell_type": "markdown",
   "metadata": {},
   "source": [
    "# Answer $\\rightarrow$"
   ]
  },
  {
   "cell_type": "markdown",
   "metadata": {},
   "source": [
    "1. \n",
    "- For {1,1} $\\in$ R = aRb, {1,1} $\\in$ S = bRc. $\\quad \\therefore$ R $\\circ$ S, aRc = {1,1}\n",
    "- For {2,2} $\\in$ R = aRb, {2,2} {2,3} $\\in$ S = bRc. $\\quad \\therefore$ R $\\circ$ S, aRc = {2,2}, {2,3}\n",
    "- For {2,3} $\\in$ R = aRb, {3,2} $\\in$ S = bRc. $\\quad \\therefore$ R $\\circ$ S, aRc = {2,2}\n",
    "- For {3,2} $\\in$ R = aRb, {2,2}, {2,3} $\\in$ S = bRc. $\\quad \\therefore$ R $\\circ$ S, aRc = {3,2}, {3,3}\n",
    "- For {4,2} $\\in$ R = aRb, {2,3}, {2,2} $\\in$ S = bRc. $\\quad \\therefore$ R $\\circ$ S, aRc = {4,3}, {4,2}\n",
    "- For {4,4} $\\in$ R = aRb, {4,4}, {4,2} $\\in$ S = bRc. $\\quad \\therefore$ R $\\circ$ S, aRc = {4,4}, {4,2}\n",
    "- R $\\circ$ R = {{1,1}, {2,2}, {2,3}, {3,2}, {3,3}, {4,2}, {4,3}, {4,4}}"
   ]
  },
  {
   "cell_type": "markdown",
   "metadata": {},
   "source": [
    "2. \n",
    "- R = {{1,1}, {2,2}, {2,3}, {3,2}, {4,2}, {4,4}}\n",
    "- R $^{-1}$ = {{1,1}, {2,2} {3,2}, {2,3}, {2,4}, {4,4}}"
   ]
  },
  {
   "cell_type": "code",
   "execution_count": 4,
   "metadata": {},
   "outputs": [
    {
     "ename": "ModuleNotFoundError",
     "evalue": "No module named 'networkx'",
     "output_type": "error",
     "traceback": [
      "\u001b[1;31m---------------------------------------------------------------------------\u001b[0m",
      "\u001b[1;31mModuleNotFoundError\u001b[0m                       Traceback (most recent call last)",
      "Cell \u001b[1;32mIn[4], line 2\u001b[0m\n\u001b[0;32m      1\u001b[0m \u001b[38;5;66;03m### 2. Draw the directed graph of R^-1\u001b[39;00m\n\u001b[1;32m----> 2\u001b[0m \u001b[38;5;28;01mimport\u001b[39;00m \u001b[38;5;21;01mnetworkx\u001b[39;00m \u001b[38;5;28;01mas\u001b[39;00m \u001b[38;5;21;01mnx\u001b[39;00m\n\u001b[0;32m      3\u001b[0m G \u001b[38;5;241m=\u001b[39m nx\u001b[38;5;241m.\u001b[39mMultiDiGraph()\n\u001b[0;32m      5\u001b[0m G\u001b[38;5;241m.\u001b[39madd_edge(\u001b[38;5;124m'\u001b[39m\u001b[38;5;124m1\u001b[39m\u001b[38;5;124m'\u001b[39m,\u001b[38;5;124m'\u001b[39m\u001b[38;5;124m1\u001b[39m\u001b[38;5;124m'\u001b[39m)\n",
      "\u001b[1;31mModuleNotFoundError\u001b[0m: No module named 'networkx'"
     ]
    }
   ],
   "source": [
    "### 2. Draw the directed graph of R^-1\n",
    "import networkx as nx\n",
    "G = nx.MultiDiGraph()\n",
    "\n",
    "G.add_edge('1','1')\n",
    "G.add_edge('2','2')\n",
    "G.add_edge('3','2')\n",
    "G.add_edge('2','3')\n",
    "G.add_edge('2','4')\n",
    "G.add_edge('4','4')\n",
    "from networkx.drawing import nx_pydot\n",
    "from graphviz import Source\n",
    "\n",
    "nx_pydot.write_dot(G, 'multig.dot')\n",
    "Source.from_file('multig.dot')"
   ]
  },
  {
   "cell_type": "code",
   "execution_count": 3,
   "metadata": {},
   "outputs": [
    {
     "ename": "ModuleNotFoundError",
     "evalue": "No module named 'networkx'",
     "output_type": "error",
     "traceback": [
      "\u001b[1;31m---------------------------------------------------------------------------\u001b[0m",
      "\u001b[1;31mModuleNotFoundError\u001b[0m                       Traceback (most recent call last)",
      "Cell \u001b[1;32mIn[3], line 2\u001b[0m\n\u001b[0;32m      1\u001b[0m \u001b[38;5;66;03m### 3. Draw the directed graph of R.\u001b[39;00m\n\u001b[1;32m----> 2\u001b[0m \u001b[38;5;28;01mimport\u001b[39;00m \u001b[38;5;21;01mnetworkx\u001b[39;00m \u001b[38;5;28;01mas\u001b[39;00m \u001b[38;5;21;01mnx\u001b[39;00m\n\u001b[0;32m      3\u001b[0m G \u001b[38;5;241m=\u001b[39m nx\u001b[38;5;241m.\u001b[39mMultiDiGraph()\n\u001b[0;32m      5\u001b[0m G\u001b[38;5;241m.\u001b[39madd_edge(\u001b[38;5;124m'\u001b[39m\u001b[38;5;124m1\u001b[39m\u001b[38;5;124m'\u001b[39m,\u001b[38;5;124m'\u001b[39m\u001b[38;5;124m1\u001b[39m\u001b[38;5;124m'\u001b[39m)\n",
      "\u001b[1;31mModuleNotFoundError\u001b[0m: No module named 'networkx'"
     ]
    }
   ],
   "source": [
    "### 3. Draw the directed graph of R.\n",
    "import networkx as nx\n",
    "G = nx.MultiDiGraph()\n",
    "\n",
    "G.add_edge('1','1')\n",
    "G.add_edge('2','2')\n",
    "G.add_edge('2','3')\n",
    "G.add_edge('3','2')\n",
    "G.add_edge('4','2')\n",
    "G.add_edge('4','4')\n",
    "from networkx.drawing import nx_pydot\n",
    "from graphviz import Source\n",
    "\n",
    "nx_pydot.write_dot(G, 'multig.dot')\n",
    "Source.from_file('multig.dot')"
   ]
  },
  {
   "cell_type": "markdown",
   "metadata": {},
   "source": [
    "---\n",
    "\n",
    "# Given & Answer $\\rightarrow$"
   ]
  },
  {
   "cell_type": "markdown",
   "metadata": {},
   "source": [
    "* Let $R$ and $S$ be relations on $A = \\{1,2,3\\}$<br>\n",
    "let:<br>\n",
    "\n",
    "$\\textbf{R} = \\{\n",
    "\\{1,1\\},\\{1,2\\},\\{2,3\\},\\{3,1\\},\\{3,3\\}\n",
    "\\}$<br>\n",
    "let:<br>\n",
    "$\\textbf{S} = \\{\n",
    "\\{1,2\\},\\{1,3\\},\\{2,1\\},\\{3,3\\}\n",
    "\\}$<br>\n",
    "Find:<br>\n",
    "1. $R \\cup S$.<br>\n",
    "- $R \\cup S$ = {x $\\in$ R $\\vee$ x $\\in$ S}\n",
    "- $R \\cup S$ = {{1,1}, {1,2}, {1,3}, {2,1}, {2,3}, {3,1}, {3,3}}\n",
    "\n",
    "2. $R \\cap S$.<br>\n",
    "- $R \\cap S$ = {x $\\in$ R $\\wedge$ x $\\in$ S}\n",
    "- $R \\cap S$ = {{1,2}, {3,3}} <br>\n",
    "\n",
    "3. $R^{c}$.<br>\n",
    "- $R^{c} = U - R$\n",
    "- U = $R \\cup S$ = {{1,1}, {1,2}, {1,3}, {2,1}, {2,3}, {3,1}, {3,3}}\n",
    "- $ U - R$ = {{1,1}, {1,2}, {1,3}, {2,1}, {2,3}, {3,1}, {3,3}} - {{1,1},\\{1,2},\\{2,3},{3,1},{3,3}}\n",
    "- $R^{c}$ = {{1,3}, {2,1}} <br>\n",
    "\n",
    "4. $R \\circ S$.<br>\n",
    "- For {1,1} $\\in$ R = aRb, {1,2}, {1,3} $\\in$ S = bRc. $\\quad \\therefore$ R $\\circ$ S, aRc = {1,2}, {1,3}\n",
    "- For {1,2} $\\in$ R = aRb, {2,1} $\\in$ S = bRc. $\\quad \\therefore$ R $\\circ$ S, aRc = {1,1}  \n",
    "- For {2,3} $\\in$ R = aRb, {3,3}, {2,3} $\\in$ S = bRc. $\\quad \\therefore$ R $\\circ$ S, aRc = {2,3}\n",
    "- For {3,1} $\\in$ R = aRb, {1,2}, {1,3} $\\in$ S = bRc. $\\quad \\therefore$ R $\\circ$ S, aRc = {3,2}, {3,3}\n",
    "- For {3,3} $\\in$ R = aRb, {3,3} $\\in$ S = bRc. $\\quad \\therefore$ R $\\circ$ S, aRc = {3,3}\n",
    "- $R \\circ S$ = {{1,1}, {1,2}, {1,3}, {2,3}, {3,2}, {3,3}}\n",
    "\n",
    "5. $S \\circ S$.<br>\n",
    "- For {1,2} $\\in$ R = aRb, {2,1} $\\in$ S = bRc. $\\quad \\therefore$ R $\\circ$ S, aRc = {1,1}\n",
    "- For {1,3} $\\in$ R = aRb, {3,3} $\\in$ S = bRc. $\\quad \\therefore$ R $\\circ$ S, aRc = {1,3}\n",
    "- For {2,1} $\\in$ R = aRb, {1,2}, {1,3} $\\in$ S = bRc. $\\quad \\therefore$ R $\\circ$ S, aRc = {2,2}, {2,3}\n",
    "- For {3,3} $\\in$ R = aRb, {3,3} $\\in$ S = bRc. $\\quad \\therefore$ R $\\circ$ S, aRc = {3,3}\n",
    "- $S \\circ S$ = {{1,1}, {1,3}, {2,2}, {2,3}, {3,3}}"
   ]
  },
  {
   "cell_type": "markdown",
   "metadata": {},
   "source": [
    "---\n",
    "# Given $\\rightarrow$"
   ]
  },
  {
   "cell_type": "markdown",
   "metadata": {},
   "source": [
    "* Consider the five relations on the set $A = \\{1,2,3\\}$:\n",
    "\\begin{equation}\n",
    "\\textbf{R} = \\{\n",
    "\\{1,1\\},\\{1,2\\},\\{1,3\\},\\{3,3\\}\n",
    "\\}\n",
    "\\end{equation}\n",
    "<br>\n",
    "\\begin{equation}\n",
    "\\textbf{S} = \\{\n",
    "\\{1,1\\},\\{1,2\\},\\{2,1\\},\\{2,2\\},\\{3,3\\}\n",
    "\\}\n",
    "\\end{equation}\n",
    "<br>\n",
    "\\begin{equation}\n",
    "\\textbf{T} = \\{\n",
    "\\{1,1\\},\\{1,2\\},\\{2,2\\},\\{2,3\\},\n",
    "\\}\n",
    "\\end{equation}\n",
    "<br>\n",
    "Which of the relations above are:<br>\n",
    "1. Reflexive.<br>\n",
    "2. Symmetric or anti-symmetric.<br>\n",
    "3. Transitive."
   ]
  },
  {
   "cell_type": "code",
   "execution_count": 220,
   "metadata": {},
   "outputs": [
    {
     "name": "stdout",
     "output_type": "stream",
     "text": [
      "{1, 2, 3}\n",
      "{(1, 1), (1, 2), (1, 3), (3, 3)}\n",
      "{(1, 2), (3, 3), (2, 1), (2, 2), (1, 1)}\n",
      "{(2, 3), (1, 1), (1, 2), (2, 2)}\n"
     ]
    }
   ],
   "source": [
    "A = {1,2,3}\n",
    "R = {(1,1),(1,2),(1,3),(3,3)}\n",
    "S = {(1,1),(1,2),(2,1),(2,2),(3,3)}\n",
    "T = {(1,1),(1,2),(2,2),(2,3)}\n",
    "print(A)\n",
    "print(R)\n",
    "print(S)\n",
    "print(T)"
   ]
  },
  {
   "cell_type": "markdown",
   "metadata": {},
   "source": [
    "# Answer $\\rightarrow$"
   ]
  },
  {
   "cell_type": "markdown",
   "metadata": {},
   "source": [
    "### 1. Reflexivity $\\rightarrow$ $\\LaTeX$ Solution:"
   ]
  },
  {
   "cell_type": "markdown",
   "metadata": {},
   "source": [
    "\n",
    "- For relation $R$\n",
    "  - For element 1, does aRa = {1,1} exist? Yes.\n",
    "  - for element 2, does aRa = {2,2} exist? No.\n",
    "- $R$ is not reflexive.\n",
    "<br>\n",
    "\n",
    "- For relation $S$\n",
    "  - For element 1, does aRa = {1,1} exist? Yes.\n",
    "  - for element 2, does aRa = {2,2} exist? Yes.\n",
    "  - For element 3, does aRa = {3,3} exist? Yes.\n",
    "- $S$ is reflexive.\n",
    "\n",
    "- For relation $T$\n",
    "  - For element 1, does aRa = {1,1} exist? Yes.\n",
    "  - for element 2, does aRa = {2,2} exist? Yes.\n",
    "  - For element 3, does aRa = {3,3} exist? No.\n",
    "- $T$ is not reflexive."
   ]
  },
  {
   "cell_type": "markdown",
   "metadata": {},
   "source": [
    "### $\\rightarrow$ $Python$ Solution:"
   ]
  },
  {
   "cell_type": "code",
   "execution_count": 221,
   "metadata": {},
   "outputs": [
    {
     "name": "stdout",
     "output_type": "stream",
     "text": [
      "R =  {(1, 1), (1, 2), (1, 3), (3, 3)}\n",
      "Is relation R reflexive in A? False\n",
      "S =  {(1, 2), (3, 3), (2, 1), (2, 2), (1, 1)}\n",
      "Is relation S reflexive in A? True\n",
      "T =  {(2, 3), (1, 1), (1, 2), (2, 2)}\n",
      "Is relation T reflexive in A? False\n"
     ]
    }
   ],
   "source": [
    "print(\"R = \",R)\n",
    "print(\"Is relation R reflexive in A?\", reflexive(R,A))\n",
    "\n",
    "print(\"S = \",S)\n",
    "print(\"Is relation S reflexive in A?\", reflexive(S,A))\n",
    "\n",
    "print(\"T = \",T)\n",
    "print(\"Is relation T reflexive in A?\", reflexive(T,A))\n"
   ]
  },
  {
   "cell_type": "markdown",
   "metadata": {},
   "source": [
    "### 2a. Symmetry $\\rightarrow$ $\\LaTeX$ Solution:"
   ]
  },
  {
   "cell_type": "markdown",
   "metadata": {},
   "source": [
    "\n",
    "- For relation $R$\n",
    "  - Ordered pair {1,1} is symmetric.\n",
    "  - For ordered pair {1,2}, does bRa = {2,1} exist? No.\n",
    "- $R$ is not symmetric. <br> <br>\n",
    "- For relation $S$\n",
    "  - Ordered pair {1,1} is symmetric.\n",
    "  - For ordered pair {1,2}, does bRa = {2,1} exist? Yes.\n",
    "  - Ordered pair {2,2} is symmetric.\n",
    "  - Ordered pair {3,3} is symmetric.\n",
    "- $S$ is symmetric. <br> <br>\n",
    "- For relation $T$\n",
    "  - Ordered pair {1,1} is symmetric.\n",
    "  - For ordered pair {1,2}, does bRa = {2,1} exist? No.\n",
    "- $T$ is not symmetric."
   ]
  },
  {
   "cell_type": "markdown",
   "metadata": {},
   "source": [
    "###  $Python$ Solution:"
   ]
  },
  {
   "cell_type": "code",
   "execution_count": 222,
   "metadata": {},
   "outputs": [
    {
     "name": "stdout",
     "output_type": "stream",
     "text": [
      "R =  {(1, 1), (1, 2), (1, 3), (3, 3)}\n",
      "Is the relation R symmetric?:  False\n",
      "S =  {(1, 2), (3, 3), (2, 1), (2, 2), (1, 1)}\n",
      "Is the relation R symmetric?:  True\n",
      "T =  {(2, 3), (1, 1), (1, 2), (2, 2)}\n",
      "Is the relation R symmetric?:  False\n"
     ]
    }
   ],
   "source": [
    "print(\"R = \",R)\n",
    "print(\"Is the relation R symmetric?: \", symmetric(R))\n",
    "print(\"S = \",S)\n",
    "print(\"Is the relation R symmetric?: \", symmetric(S))\n",
    "print(\"T = \",T)\n",
    "print(\"Is the relation R symmetric?: \", symmetric(T))"
   ]
  },
  {
   "cell_type": "markdown",
   "metadata": {},
   "source": [
    "### 2b. Anti-symmetry $\\rightarrow$ $\\LaTeX$ Solution:"
   ]
  },
  {
   "cell_type": "markdown",
   "metadata": {},
   "source": [
    "\n",
    "- For relation $R$\n",
    "  - For ordered pair {1,1}, is the pair not distinct? Yes\n",
    "  - For ordered pair {1,2}, does bRa = {2,1} not exist? Yes\n",
    "  - For ordered pair {1,3}, does bRa = {3,1} not exist? Yes\n",
    "  - For ordered pair {3,3}, is the pair not distinct? Yes\n",
    "- $R$ is anti-symmetric.<br><br>\n",
    "- For relation $S$\n",
    "  - For ordered pair {1,1}, is the pair not distinct? Yes\n",
    "  - For ordered pair {1,2}, does bRa = {2,1} not exist? No\n",
    "- $S$ is not anti-symmetric.<br><br>\n",
    "- For relation $T$\n",
    "  - For ordered pair {1,1}, is the pair not distinct? Yes\n",
    "  - For ordered pair {1,2}, does bRa = {2,1} not exist? Yes\n",
    "  - For ordered pair {2,2}, is the pair not distinct? Yes\n",
    "  - For ordered pair {2,3}, idoes bRa = {3,2} not exist? Yes\n",
    "- $T$ is anti-symmetric.<br><br>"
   ]
  },
  {
   "cell_type": "markdown",
   "metadata": {},
   "source": [
    "### $Python$ Solution:"
   ]
  },
  {
   "cell_type": "markdown",
   "metadata": {},
   "source": [
    "# 3. Transitivity $\\LaTeX$ Solution:"
   ]
  },
  {
   "cell_type": "markdown",
   "metadata": {},
   "source": [
    "- #### For relation $R$\n",
    "  - ##### For {1,1} $\\in$ R = {1,1} $\\in$ R = bRc, $\\exists$({1,1}=aRc)?      Yes\n",
    "  - ##### For {1,2} $\\in$ R = aRb, $\\nexists$ bRa, $\\therefore$ ignores the transitivity check.\n",
    "  - ##### For {1,3} $\\in$ R = {3,3} $\\in$ R = bRc, $\\exists$({1,3}=aRc)? Yes\n",
    "  - ##### For {3,3} $\\in$ R = {3,3} $\\in$ R = bRc, $\\exists$({3,3}=aRc)? Yes\n",
    "- #### $R$ is transitive. <br><br>\n",
    "- #### For relation $S$\n",
    "  - ##### For {1,1} $\\in$ S = {1,1} $\\in$ S = bRc, $\\exists$({1,1}=aRc)? Yes\n",
    "  - ##### For {1,1} $\\in$ S = {1,2} $\\in$ S = bRc, $\\exists$({1,2}=aRc)? Yes\n",
    "  - ##### For {1,2} $\\in$ S = {2,1} $\\in$ S = bRc, $\\exists$({1,1}=aRc)? Yes\n",
    "  - ##### For {1,2} $\\in$ S = {2,2} $\\in$ S = bRc, $\\exists$({1,2}=aRc)? Yes\n",
    "  - ##### For {2,1} $\\in$ S = {1,1} $\\in$ S = bRc, $\\exists$({2,1}=aRc)? Yes\n",
    "  - ##### For {2,1} $\\in$ S = {1,2} $\\in$ S = bRc, $\\exists$({2,2}=aRc)? Yes\n",
    "  - ##### For {2,2} $\\in$ S = {2,2} $\\in$ S = bRc, $\\exists$({2,2}=aRc)? Yes\n",
    "  - ##### For {2,2} $\\in$ S = {2,1} $\\in$ S = bRc, $\\exists$({2,1}=aRc)? Yes\n",
    "  - ##### For {3,3} $\\in$ S = {3,3} $\\in$ S = bRc, $\\exists$({3,3}=aRc)? Yes\n",
    "- #### $S$ is transitive. <br><br>\n",
    "- #### For relation $T$\n",
    "  - ##### For {1,1} $\\in$ T = {1,1} $\\in$ T = bRc, $\\exists$({1,1}=aRc)? Yes\n",
    "  - ##### For {1,1} $\\in$ T = {1,2} $\\in$ T = bRc, $\\exists$({1,2}=aRc)? Yes\n",
    "  - ##### For {1,2} $\\in$ T = {2,2} $\\in$ T = bRc, $\\exists$({1,2}=aRc)? Yes\n",
    "  - ##### For {1,2} $\\in$ T = {2,3} $\\in$ T = bRc, $\\exists$({1,3}=aRc)? No\n",
    "- #### $T$ is not transitive. <br><br>"
   ]
  },
  {
   "cell_type": "markdown",
   "metadata": {},
   "source": [
    "## $Python$ Solution"
   ]
  },
  {
   "cell_type": "code",
   "execution_count": 223,
   "metadata": {},
   "outputs": [
    {
     "name": "stdout",
     "output_type": "stream",
     "text": [
      "A =  {1, 2, 3} \n",
      "\n",
      "R =  {(1, 1), (1, 2), (1, 3), (3, 3)}\n",
      "Is relation R transitive?:  True\n",
      "S =  {(1, 2), (3, 3), (2, 1), (2, 2), (1, 1)}\n",
      "Is relation S transitive?:  True\n",
      "T =  {(2, 3), (1, 1), (1, 2), (2, 2)}\n",
      "Is relation T transitive?:  False\n"
     ]
    }
   ],
   "source": [
    "print(\"A = \",A, \"\\n\")\n",
    "\n",
    "print(\"R = \",R)\n",
    "print(\"Is relation R transitive?: \", transitive(R))\n",
    "print(\"S = \",S)\n",
    "print(\"Is relation S transitive?: \", transitive(S))\n",
    "print(\"T = \",T)\n",
    "print(\"Is relation T transitive?: \", transitive(T))"
   ]
  }
 ],
 "metadata": {
  "kernelspec": {
   "display_name": "Python 3 (ipykernel)",
   "language": "python",
   "name": "python3"
  },
  "language_info": {
   "codemirror_mode": {
    "name": "ipython",
    "version": 3
   },
   "file_extension": ".py",
   "mimetype": "text/x-python",
   "name": "python",
   "nbconvert_exporter": "python",
   "pygments_lexer": "ipython3",
   "version": "3.11.5"
  }
 },
 "nbformat": 4,
 "nbformat_minor": 4
}
